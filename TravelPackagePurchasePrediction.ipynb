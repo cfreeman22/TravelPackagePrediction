{
  "nbformat": 4,
  "nbformat_minor": 0,
  "metadata": {
    "colab": {
      "name": "TravelPackagePurchasePrediction.ipynb",
      "provenance": [],
      "authorship_tag": "ABX9TyPjkqEdV1HvCK16sqGTNT2T",
      "include_colab_link": true
    },
    "kernelspec": {
      "name": "python3",
      "display_name": "Python 3"
    },
    "language_info": {
      "name": "python"
    }
  },
  "cells": [
    {
      "cell_type": "markdown",
      "metadata": {
        "id": "view-in-github",
        "colab_type": "text"
      },
      "source": [
        "<a href=\"https://colab.research.google.com/github/cfreeman22/TravelPackagePrediction/blob/main/TravelPackagePurchasePrediction.ipynb\" target=\"_parent\"><img src=\"https://colab.research.google.com/assets/colab-badge.svg\" alt=\"Open In Colab\"/></a>"
      ]
    },
    {
      "cell_type": "markdown",
      "source": [
        "# Travel Package Purchase Prediction\n",
        "# Which customer is most likely to book a package deal travel tour?\n",
        "Presented By Christian Freeman \n",
        "FEB 18, 2022  \n",
        "\n",
        "\n",
        "## Description\n",
        "### Background and Context\n",
        "\n",
        "**Visit with us** is a tourism company that wants to understand its existing business model and establish a viable business model to expand the customer base by introducing new package deals.\n",
        "\n",
        " Currently, there are five types of packages the company offers - Basic, Standard, Deluxe, Super Deluxe, King. Looking at the last year's data, we observed that 18% of the customers purchased the packages. However, the marketing cost was relatively high because customers were contacted randomly.\n",
        "\n",
        "The company is now planning to launch a new product, i.e., Wellness Tourism Package. Wellness Tourism is defined as Travel that allows the traveler to maintain, enhance or kick-start a healthy lifestyle and support or increase one's sense of well-being.\n",
        "\n",
        "However, this time company wants to harness the available data of existing and potential customers to make the marketing expenditure more efficient.\n",
        "\n",
        "As a Data Scientist at **\"Visit with us\"** travel company, I have to analyze the customers' data and information to provide recommendations to the Policy Maker and Marketing Team and build a model to predict the potential customer who is going to purchase the newly introduced travel \n",
        "\n",
        "Project Planning\n",
        "## PLAN ==> Acquire ==> Prepare ==> Explore ==> Model &Evaluate ==> Deliver\n",
        "\n",
        "Understanding consumer behavior can quite chanlenging, especially when the product we offer our customers is a service and a leisure in this case. To derive meaningful insights, I will perform the following:\n",
        "\n",
        "\n",
        "- Prepare the data for visualization using a customized  module wrangle.py\n",
        "- Visualize the data\n",
        "- Identify patterns and insights \n",
        "- Document key observations and relationships between variables \n",
        "- Build machine models \n",
        "\n",
        " \n",
        "## Goals and summary\n",
        "My goal in this project is to:\n",
        "\n",
        "- Identify the characteristics of customers who are more likely to purchase a new travel package deal, and the potential reasons for this behavior.\n",
        "- Build a ML model To predict which customer is more likely to purchase the newly introduced travel package.\n",
        "- Build Bagging classifier, Random Forest, and Decision Tree\n",
        "- Build Adaboost, GradientBoost, XGBoost, and Stacking classifiers\n",
        "- Make recommendations are made based on the findings to help increase the chances of creating a customer base for the new product .\n",
        "-  \n",
        "## Initial Questions\n",
        "* What are unique characteristics of our customers?\n",
        "* What factors increase their chances of purchasing a travel plan ?\n",
        "* can we predict the behavior of these customers ?\n",
        " \n",
        " \n",
        "## Findings Include:\n",
        "- Many outliers in Income, Mortgage , and CCAvg colums\n",
        "- Experience column has  some 0 values as well as some  negative values  "
      ],
      "metadata": {
        "id": "mSj_KqDV3kWl"
      }
    },
    {
      "cell_type": "code",
      "source": [
        ""
      ],
      "metadata": {
        "id": "UkzbBAI0L6-t"
      },
      "execution_count": null,
      "outputs": []
    }
  ]
}